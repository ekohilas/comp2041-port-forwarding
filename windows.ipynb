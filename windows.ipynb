{
 "cells": [
  {
   "cell_type": "markdown",
   "metadata": {},
   "source": [
    "# Port Forwarding"
   ]
  },
  {
   "cell_type": "markdown",
   "metadata": {},
   "source": [
    "## How to access an application running on a server"
   ]
  },
  {
   "cell_type": "markdown",
   "metadata": {},
   "source": [
    "When running an app on a server to which we are connected to, by default, we don't have access to our app through our machine, as we are no longer running locally."
   ]
  },
  {
   "cell_type": "markdown",
   "metadata": {},
   "source": [
    "_Port Forwarding_ fixes this by forwarding a port from our local machine to some other address, such as a port on our server."
   ]
  },
  {
   "cell_type": "markdown",
   "metadata": {},
   "source": [
    "## Windows (Putty)"
   ]
  },
  {
   "cell_type": "markdown",
   "metadata": {},
   "source": [
    "To forward one of our local ports to a port on our host machine, we first need to navigate to the **`Tunnels`** inside the **`SSH`** menu"
   ]
  },
  {
   "cell_type": "markdown",
   "metadata": {},
   "source": [
    "![navigate_image](images/navigate.png)"
   ]
  },
  {
   "cell_type": "markdown",
   "metadata": {},
   "source": [
    "Since our host machine is `user@cse.unsw.edu.au`, our **`Destination`** needs to be **`<host_machine>:<server_port>`**."
   ]
  },
  {
   "cell_type": "markdown",
   "metadata": {},
   "source": [
    "![destination_image](images/destination.png)"
   ]
  },
  {
   "cell_type": "markdown",
   "metadata": {},
   "source": [
    "In this case, **`host_machine`** should be **`localhost`** to signify that we are connecting to the same server."
   ]
  },
  {
   "cell_type": "markdown",
   "metadata": {},
   "source": [
    "![localhost_image](images/localhost.png)"
   ]
  },
  {
   "cell_type": "markdown",
   "metadata": {},
   "source": [
    "**`server_port`** then becomes whatever port our app is using."
   ]
  },
  {
   "cell_type": "markdown",
   "metadata": {},
   "source": [
    "In this case, our app in python is run with the following command:"
   ]
  },
  {
   "cell_type": "markdown",
   "metadata": {},
   "source": [
    "``` python\n",
    "app.run(debug=True, use_reloader=True, port=2041)\n",
    "```"
   ]
  },
  {
   "cell_type": "markdown",
   "metadata": {},
   "source": [
    "So **`server_port`** is **`2041`**"
   ]
  },
  {
   "cell_type": "markdown",
   "metadata": {},
   "source": [
    "![server_port_image](images/server_port.png)"
   ]
  },
  {
   "cell_type": "markdown",
   "metadata": {},
   "source": [
    "**`Source port`** can be whatever you'd like it to be."
   ]
  },
  {
   "cell_type": "markdown",
   "metadata": {},
   "source": [
    "For simplicity, we can make it the same as the `server_port`, and so we can just access our app by going to http://localhost:2041/"
   ]
  },
  {
   "cell_type": "markdown",
   "metadata": {},
   "source": [
    "![source_port_image](images/source_port.png)"
   ]
  },
  {
   "cell_type": "markdown",
   "metadata": {},
   "source": [
    "We then need to press **`Add`** to finally add the port."
   ]
  },
  {
   "cell_type": "markdown",
   "metadata": {},
   "source": [
    "One ***important*** note is that, each host can only have a limited number of ports, so occasionally we might run into  issues where a port has already been taken."
   ]
  },
  {
   "cell_type": "markdown",
   "metadata": {},
   "source": [
    "`OSError: [Errno 98] Address already in use`"
   ]
  },
  {
   "cell_type": "markdown",
   "metadata": {},
   "source": [
    "In this case, just pick a different port number in the range of 0-65535 "
   ]
  },
  {
   "cell_type": "markdown",
   "metadata": {},
   "source": [
    "You should aim for something that's unique to you, and in the thousands (the higher the better).\n",
    "\n",
    "Any ports below 1024 are generally used by the system.\n",
    "\n",
    "The range 49152-65535 contains ports which cannot be registered.\n",
    "\n",
    "[more here](#https://en.wikipedia.org/wiki/List_of_TCP_and_UDP_port_numbers)"
   ]
  },
  {
   "cell_type": "markdown",
   "metadata": {},
   "source": [
    "For example, if you didn't want to type a port at all, we can make the `Source port` be `80`, which is reserved for HTTP"
   ]
  },
  {
   "cell_type": "markdown",
   "metadata": {},
   "source": [
    "![port_80](images/port_80.png)"
   ]
  },
  {
   "cell_type": "markdown",
   "metadata": {},
   "source": [
    "Then you should be able to access your app using http://localhost/"
   ]
  }
 ],
 "metadata": {
  "kernelspec": {
   "display_name": "Python 3",
   "language": "python",
   "name": "python3"
  },
  "language_info": {
   "codemirror_mode": {
    "name": "ipython",
    "version": 3
   },
   "file_extension": ".py",
   "mimetype": "text/x-python",
   "name": "python",
   "nbconvert_exporter": "python",
   "pygments_lexer": "ipython3",
   "version": "3.6.1"
  }
 },
 "nbformat": 4,
 "nbformat_minor": 2
}
